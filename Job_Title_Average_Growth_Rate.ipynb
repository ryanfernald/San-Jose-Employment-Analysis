{
  "nbformat": 4,
  "nbformat_minor": 0,
  "metadata": {
    "colab": {
      "provenance": [],
      "authorship_tag": "ABX9TyNl4NuYM2hyiV/JFj8/r6zx",
      "include_colab_link": true
    },
    "kernelspec": {
      "name": "python3",
      "display_name": "Python 3"
    },
    "language_info": {
      "name": "python"
    }
  },
  "cells": [
    {
      "cell_type": "markdown",
      "metadata": {
        "id": "view-in-github",
        "colab_type": "text"
      },
      "source": [
        "<a href=\"https://colab.research.google.com/github/ryanfernald/San-Jose-Employment-Analysis/blob/main/Job_Title_Average_Growth_Rate.ipynb\" target=\"_parent\"><img src=\"https://colab.research.google.com/assets/colab-badge.svg\" alt=\"Open In Colab\"/></a>"
      ]
    },
    {
      "cell_type": "code",
      "execution_count": 11,
      "metadata": {
        "colab": {
          "base_uri": "https://localhost:8080/"
        },
        "id": "-fiMi75wtRjd",
        "outputId": "31a74763-7d8d-446a-a3b4-73efc9ba716d"
      },
      "outputs": [
        {
          "output_type": "stream",
          "name": "stdout",
          "text": [
            "Growth Rates for Each Year:\n",
            "              Job Title  Year   Base Pay  Growth Rate\n",
            "4386   Account Clerk II  2013   46132.80     1.879387\n",
            "4389   Account Clerk II  2013   49404.00     7.090833\n",
            "4433   Account Clerk II  2013   42296.00   -14.387499\n",
            "4441   Account Clerk II  2013   45591.25     7.790926\n",
            "4450   Account Clerk II  2013   46132.80     1.187838\n",
            "...                 ...   ...        ...          ...\n",
            "49987       Zoo Manager  2019  102746.16    92.387751\n",
            "58512       Zoo Manager  2020  112047.60     9.052835\n",
            "68850       Zoo Manager  2021   51004.80   -54.479346\n",
            "77143       Zoo Manager  2022   65921.04    29.244777\n",
            "83991       Zoo Manager  2023  106973.88    62.275777\n",
            "\n",
            "[88211 rows x 4 columns]\n",
            "\n",
            "Average Growth Rate from 2013 to 2023 for Each Job Title:\n",
            "               Job Title  Average Growth Rate\n",
            "0       Account Clerk II            74.705039\n",
            "1    Account Clerk II PT           160.041542\n",
            "2           Accountant I           105.041822\n",
            "3          Accountant II            31.582204\n",
            "4        Accounting Tech            34.441629\n",
            "..                   ...                  ...\n",
            "679         Zoo Educator             3.580908\n",
            "680      Zoo Educator PT            -6.850933\n",
            "681        Zoo Keeper FT            42.175556\n",
            "682        Zoo Keeper PT           667.923617\n",
            "683          Zoo Manager            13.156892\n",
            "\n",
            "[684 rows x 2 columns]\n"
          ]
        },
        {
          "output_type": "stream",
          "name": "stderr",
          "text": [
            "<ipython-input-11-9d3d426dd405>:8: FutureWarning: The default fill_method='ffill' in SeriesGroupBy.pct_change is deprecated and will be removed in a future version. Either fill in any non-leading NA values prior to calling pct_change or specify 'fill_method=None' to not fill NA values.\n",
            "  df['Growth Rate'] = df.groupby('Job Title')['Base Pay'].pct_change() * 100\n"
          ]
        }
      ],
      "source": [
        "import pandas as pd\n",
        "\n",
        "file_path = 'sample_data/df_all_years_clean.csv'\n",
        "df = pd.read_csv(file_path)\n",
        "\n",
        "df = df.sort_values(by=['Job Title', 'Year'])\n",
        "\n",
        "df['Growth Rate'] = df.groupby('Job Title')['Base Pay'].pct_change() * 100\n",
        "\n",
        "growth_rate_df = df.dropna(subset=['Growth Rate'])\n",
        "\n",
        "filtered_growth_rate_df = growth_rate_df[(growth_rate_df['Year'] >= 2013) & (growth_rate_df['Year'] <= 2023)]\n",
        "\n",
        "average_growth_rate = filtered_growth_rate_df.groupby('Job Title')['Growth Rate'].mean().reset_index()\n",
        "\n",
        "average_growth_rate.rename(columns={'Growth Rate': 'Average Growth Rate'}, inplace=True)\n",
        "\n",
        "print(\"Growth Rates for Each Year:\")\n",
        "print(growth_rate_df[['Job Title', 'Year', 'Base Pay', 'Growth Rate']])\n",
        "\n",
        "print(\"\\nAverage Growth Rate from 2013 to 2023 for Each Job Title:\")\n",
        "print(average_growth_rate)\n"
      ]
    }
  ]
}